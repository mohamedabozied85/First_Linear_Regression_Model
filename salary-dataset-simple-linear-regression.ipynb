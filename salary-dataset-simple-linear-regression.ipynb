{
 "cells": [
  {
   "cell_type": "code",
   "execution_count": 1,
   "id": "edf3bcc2",
   "metadata": {
    "_cell_guid": "b1076dfc-b9ad-4769-8c92-a6c4dae69d19",
    "_uuid": "8f2839f25d086af736a60e9eeb907d3b93b6e0e5",
    "execution": {
     "iopub.execute_input": "2024-11-14T12:55:13.861220Z",
     "iopub.status.busy": "2024-11-14T12:55:13.860635Z",
     "iopub.status.idle": "2024-11-14T12:55:14.812071Z",
     "shell.execute_reply": "2024-11-14T12:55:14.810718Z"
    },
    "papermill": {
     "duration": 0.962917,
     "end_time": "2024-11-14T12:55:14.814915",
     "exception": false,
     "start_time": "2024-11-14T12:55:13.851998",
     "status": "completed"
    },
    "tags": []
   },
   "outputs": [
    {
     "name": "stdout",
     "output_type": "stream",
     "text": [
      "/kaggle/input/salary-dataset-simple-linear-regression/Salary_dataset.csv\n"
     ]
    }
   ],
   "source": [
    "# This Python 3 environment comes with many helpful analytics libraries installed\n",
    "# It is defined by the kaggle/python Docker image: https://github.com/kaggle/docker-python\n",
    "# For example, here's several helpful packages to load\n",
    "\n",
    "import numpy as np # linear algebra\n",
    "import pandas as pd # data processing, CSV file I/O (e.g. pd.read_csv)\n",
    "\n",
    "# Input data files are available in the read-only \"../input/\" directory\n",
    "# For example, running this (by clicking run or pressing Shift+Enter) will list all files under the input directory\n",
    "\n",
    "import os\n",
    "for dirname, _, filenames in os.walk('/kaggle/input'):\n",
    "    for filename in filenames:\n",
    "        print(os.path.join(dirname, filename))\n",
    "\n",
    "# You can write up to 20GB to the current directory (/kaggle/working/) that gets preserved as output when you create a version using \"Save & Run All\" \n",
    "# You can also write temporary files to /kaggle/temp/, but they won't be saved outside of the current session"
   ]
  },
  {
   "cell_type": "code",
   "execution_count": 2,
   "id": "b7b50eed",
   "metadata": {
    "execution": {
     "iopub.execute_input": "2024-11-14T12:55:14.828979Z",
     "iopub.status.busy": "2024-11-14T12:55:14.828382Z",
     "iopub.status.idle": "2024-11-14T12:55:14.868845Z",
     "shell.execute_reply": "2024-11-14T12:55:14.867636Z"
    },
    "papermill": {
     "duration": 0.050547,
     "end_time": "2024-11-14T12:55:14.871643",
     "exception": false,
     "start_time": "2024-11-14T12:55:14.821096",
     "status": "completed"
    },
    "tags": []
   },
   "outputs": [
    {
     "data": {
      "text/html": [
       "<div>\n",
       "<style scoped>\n",
       "    .dataframe tbody tr th:only-of-type {\n",
       "        vertical-align: middle;\n",
       "    }\n",
       "\n",
       "    .dataframe tbody tr th {\n",
       "        vertical-align: top;\n",
       "    }\n",
       "\n",
       "    .dataframe thead th {\n",
       "        text-align: right;\n",
       "    }\n",
       "</style>\n",
       "<table border=\"1\" class=\"dataframe\">\n",
       "  <thead>\n",
       "    <tr style=\"text-align: right;\">\n",
       "      <th></th>\n",
       "      <th>Unnamed: 0</th>\n",
       "      <th>YearsExperience</th>\n",
       "      <th>Salary</th>\n",
       "    </tr>\n",
       "  </thead>\n",
       "  <tbody>\n",
       "    <tr>\n",
       "      <th>0</th>\n",
       "      <td>0</td>\n",
       "      <td>1.2</td>\n",
       "      <td>39344.0</td>\n",
       "    </tr>\n",
       "    <tr>\n",
       "      <th>1</th>\n",
       "      <td>1</td>\n",
       "      <td>1.4</td>\n",
       "      <td>46206.0</td>\n",
       "    </tr>\n",
       "    <tr>\n",
       "      <th>2</th>\n",
       "      <td>2</td>\n",
       "      <td>1.6</td>\n",
       "      <td>37732.0</td>\n",
       "    </tr>\n",
       "    <tr>\n",
       "      <th>3</th>\n",
       "      <td>3</td>\n",
       "      <td>2.1</td>\n",
       "      <td>43526.0</td>\n",
       "    </tr>\n",
       "    <tr>\n",
       "      <th>4</th>\n",
       "      <td>4</td>\n",
       "      <td>2.3</td>\n",
       "      <td>39892.0</td>\n",
       "    </tr>\n",
       "  </tbody>\n",
       "</table>\n",
       "</div>"
      ],
      "text/plain": [
       "   Unnamed: 0  YearsExperience   Salary\n",
       "0           0              1.2  39344.0\n",
       "1           1              1.4  46206.0\n",
       "2           2              1.6  37732.0\n",
       "3           3              2.1  43526.0\n",
       "4           4              2.3  39892.0"
      ]
     },
     "execution_count": 2,
     "metadata": {},
     "output_type": "execute_result"
    }
   ],
   "source": [
    "data= pd.read_csv(\"/kaggle/input/salary-dataset-simple-linear-regression/Salary_dataset.csv\")\n",
    "data.head()"
   ]
  },
  {
   "cell_type": "code",
   "execution_count": 3,
   "id": "f3187368",
   "metadata": {
    "execution": {
     "iopub.execute_input": "2024-11-14T12:55:14.887085Z",
     "iopub.status.busy": "2024-11-14T12:55:14.885811Z",
     "iopub.status.idle": "2024-11-14T12:55:14.918980Z",
     "shell.execute_reply": "2024-11-14T12:55:14.917520Z"
    },
    "papermill": {
     "duration": 0.043707,
     "end_time": "2024-11-14T12:55:14.921608",
     "exception": false,
     "start_time": "2024-11-14T12:55:14.877901",
     "status": "completed"
    },
    "tags": []
   },
   "outputs": [
    {
     "name": "stdout",
     "output_type": "stream",
     "text": [
      "<class 'pandas.core.frame.DataFrame'>\n",
      "RangeIndex: 30 entries, 0 to 29\n",
      "Data columns (total 3 columns):\n",
      " #   Column           Non-Null Count  Dtype  \n",
      "---  ------           --------------  -----  \n",
      " 0   Unnamed: 0       30 non-null     int64  \n",
      " 1   YearsExperience  30 non-null     float64\n",
      " 2   Salary           30 non-null     float64\n",
      "dtypes: float64(2), int64(1)\n",
      "memory usage: 848.0 bytes\n"
     ]
    }
   ],
   "source": [
    "data.info()"
   ]
  },
  {
   "cell_type": "code",
   "execution_count": 4,
   "id": "9ac4f944",
   "metadata": {
    "execution": {
     "iopub.execute_input": "2024-11-14T12:55:14.936196Z",
     "iopub.status.busy": "2024-11-14T12:55:14.935664Z",
     "iopub.status.idle": "2024-11-14T12:55:14.953663Z",
     "shell.execute_reply": "2024-11-14T12:55:14.952459Z"
    },
    "papermill": {
     "duration": 0.028423,
     "end_time": "2024-11-14T12:55:14.956233",
     "exception": false,
     "start_time": "2024-11-14T12:55:14.927810",
     "status": "completed"
    },
    "tags": []
   },
   "outputs": [
    {
     "data": {
      "text/plain": [
       "count        30.000000\n",
       "mean      76004.000000\n",
       "std       27414.429785\n",
       "min       37732.000000\n",
       "25%       56721.750000\n",
       "50%       65238.000000\n",
       "75%      100545.750000\n",
       "max      122392.000000\n",
       "Name: Salary, dtype: float64"
      ]
     },
     "execution_count": 4,
     "metadata": {},
     "output_type": "execute_result"
    }
   ],
   "source": [
    "data[\"Salary\"].describe()"
   ]
  },
  {
   "cell_type": "code",
   "execution_count": 5,
   "id": "d4404fa5",
   "metadata": {
    "execution": {
     "iopub.execute_input": "2024-11-14T12:55:14.971275Z",
     "iopub.status.busy": "2024-11-14T12:55:14.970758Z",
     "iopub.status.idle": "2024-11-14T12:55:14.981885Z",
     "shell.execute_reply": "2024-11-14T12:55:14.980410Z"
    },
    "papermill": {
     "duration": 0.022409,
     "end_time": "2024-11-14T12:55:14.985149",
     "exception": false,
     "start_time": "2024-11-14T12:55:14.962740",
     "status": "completed"
    },
    "tags": []
   },
   "outputs": [
    {
     "data": {
      "text/plain": [
       "0.9782416184887598"
      ]
     },
     "execution_count": 5,
     "metadata": {},
     "output_type": "execute_result"
    }
   ],
   "source": [
    "data[\"Salary\"].corr(data[\"YearsExperience\"])"
   ]
  },
  {
   "cell_type": "code",
   "execution_count": 6,
   "id": "14230c10",
   "metadata": {
    "execution": {
     "iopub.execute_input": "2024-11-14T12:55:15.002554Z",
     "iopub.status.busy": "2024-11-14T12:55:15.002017Z",
     "iopub.status.idle": "2024-11-14T12:55:15.314384Z",
     "shell.execute_reply": "2024-11-14T12:55:15.312999Z"
    },
    "papermill": {
     "duration": 0.324735,
     "end_time": "2024-11-14T12:55:15.317151",
     "exception": false,
     "start_time": "2024-11-14T12:55:14.992416",
     "status": "completed"
    },
    "tags": []
   },
   "outputs": [
    {
     "data": {
      "image/png": "[encoded data removed]",
      "text/plain": [
       "<Figure size 640x480 with 1 Axes>"
      ]
     },
     "metadata": {},
     "output_type": "display_data"
    }
   ],
   "source": [
    "import matplotlib.pyplot as plt\n",
    "data.plot(x= \"YearsExperience\", y= \"Salary\", kind= \"scatter\")\n",
    "plt.show()"
   ]
  },
  {
   "cell_type": "code",
   "execution_count": 7,
   "id": "9d861103",
   "metadata": {
    "execution": {
     "iopub.execute_input": "2024-11-14T12:55:15.334947Z",
     "iopub.status.busy": "2024-11-14T12:55:15.333480Z",
     "iopub.status.idle": "2024-11-14T12:55:17.099318Z",
     "shell.execute_reply": "2024-11-14T12:55:17.097824Z"
    },
    "papermill": {
     "duration": 1.777946,
     "end_time": "2024-11-14T12:55:17.102350",
     "exception": false,
     "start_time": "2024-11-14T12:55:15.324404",
     "status": "completed"
    },
    "tags": []
   },
   "outputs": [],
   "source": [
    "from sklearn.linear_model import LinearRegression\n",
    "from sklearn.metrics import r2_score\n",
    "from sklearn.model_selection import train_test_split"
   ]
  },
  {
   "cell_type": "code",
   "execution_count": 8,
   "id": "96660c75",
   "metadata": {
    "execution": {
     "iopub.execute_input": "2024-11-14T12:55:17.118893Z",
     "iopub.status.busy": "2024-11-14T12:55:17.118118Z",
     "iopub.status.idle": "2024-11-14T12:55:17.132536Z",
     "shell.execute_reply": "2024-11-14T12:55:17.130893Z"
    },
    "papermill": {
     "duration": 0.02592,
     "end_time": "2024-11-14T12:55:17.135275",
     "exception": false,
     "start_time": "2024-11-14T12:55:17.109355",
     "status": "completed"
    },
    "tags": []
   },
   "outputs": [
    {
     "data": {
      "text/plain": [
       "((21, 1), (9, 1))"
      ]
     },
     "execution_count": 8,
     "metadata": {},
     "output_type": "execute_result"
    }
   ],
   "source": [
    "x= data[\"YearsExperience\"].values.reshape(-1, 1)\n",
    "y= data[\"Salary\"].values\n",
    "x_train,x_test,y_train,y_test = train_test_split(x, y, test_size= 0.3, random_state= 42)\n",
    "x_train.shape, x_test.shape"
   ]
  },
  {
   "cell_type": "code",
   "execution_count": 9,
   "id": "7390dbe8",
   "metadata": {
    "execution": {
     "iopub.execute_input": "2024-11-14T12:55:17.152765Z",
     "iopub.status.busy": "2024-11-14T12:55:17.152304Z",
     "iopub.status.idle": "2024-11-14T12:55:17.175349Z",
     "shell.execute_reply": "2024-11-14T12:55:17.173980Z"
    },
    "papermill": {
     "duration": 0.034475,
     "end_time": "2024-11-14T12:55:17.177975",
     "exception": false,
     "start_time": "2024-11-14T12:55:17.143500",
     "status": "completed"
    },
    "tags": []
   },
   "outputs": [
    {
     "data": {
      "text/html": [
       "<style>#sk-container-id-1 {color: black;background-color: white;}#sk-container-id-1 pre{padding: 0;}#sk-container-id-1 div.sk-toggleable {background-color: white;}#sk-container-id-1 label.sk-toggleable__label {cursor: pointer;display: block;width: 100%;margin-bottom: 0;padding: 0.3em;box-sizing: border-box;text-align: center;}#sk-container-id-1 label.sk-toggleable__label-arrow:before {content: \"▸\";float: left;margin-right: 0.25em;color: #696969;}#sk-container-id-1 label.sk-toggleable__label-arrow:hover:before {color: black;}#sk-container-id-1 div.sk-estimator:hover label.sk-toggleable__label-arrow:before {color: black;}#sk-container-id-1 div.sk-toggleable__content {max-height: 0;max-width: 0;overflow: hidden;text-align: left;background-color: #f0f8ff;}#sk-container-id-1 div.sk-toggleable__content pre {margin: 0.2em;color: black;border-radius: 0.25em;background-color: #f0f8ff;}#sk-container-id-1 input.sk-toggleable__control:checked~div.sk-toggleable__content {max-height: 200px;max-width: 100%;overflow: auto;}#sk-container-id-1 input.sk-toggleable__control:checked~label.sk-toggleable__label-arrow:before {content: \"▾\";}#sk-container-id-1 div.sk-estimator input.sk-toggleable__control:checked~label.sk-toggleable__label {background-color: #d4ebff;}#sk-container-id-1 div.sk-label input.sk-toggleable__control:checked~label.sk-toggleable__label {background-color: #d4ebff;}#sk-container-id-1 input.sk-hidden--visually {border: 0;clip: rect(1px 1px 1px 1px);clip: rect(1px, 1px, 1px, 1px);height: 1px;margin: -1px;overflow: hidden;padding: 0;position: absolute;width: 1px;}#sk-container-id-1 div.sk-estimator {font-family: monospace;background-color: #f0f8ff;border: 1px dotted black;border-radius: 0.25em;box-sizing: border-box;margin-bottom: 0.5em;}#sk-container-id-1 div.sk-estimator:hover {background-color: #d4ebff;}#sk-container-id-1 div.sk-parallel-item::after {content: \"\";width: 100%;border-bottom: 1px solid gray;flex-grow: 1;}#sk-container-id-1 div.sk-label:hover label.sk-toggleable__label {background-color: #d4ebff;}#sk-container-id-1 div.sk-serial::before {content: \"\";position: absolute;border-left: 1px solid gray;box-sizing: border-box;top: 0;bottom: 0;left: 50%;z-index: 0;}#sk-container-id-1 div.sk-serial {display: flex;flex-direction: column;align-items: center;background-color: white;padding-right: 0.2em;padding-left: 0.2em;position: relative;}#sk-container-id-1 div.sk-item {position: relative;z-index: 1;}#sk-container-id-1 div.sk-parallel {display: flex;align-items: stretch;justify-content: center;background-color: white;position: relative;}#sk-container-id-1 div.sk-item::before, #sk-container-id-1 div.sk-parallel-item::before {content: \"\";position: absolute;border-left: 1px solid gray;box-sizing: border-box;top: 0;bottom: 0;left: 50%;z-index: -1;}#sk-container-id-1 div.sk-parallel-item {display: flex;flex-direction: column;z-index: 1;position: relative;background-color: white;}#sk-container-id-1 div.sk-parallel-item:first-child::after {align-self: flex-end;width: 50%;}#sk-container-id-1 div.sk-parallel-item:last-child::after {align-self: flex-start;width: 50%;}#sk-container-id-1 div.sk-parallel-item:only-child::after {width: 0;}#sk-container-id-1 div.sk-dashed-wrapped {border: 1px dashed gray;margin: 0 0.4em 0.5em 0.4em;box-sizing: border-box;padding-bottom: 0.4em;background-color: white;}#sk-container-id-1 div.sk-label label {font-family: monospace;font-weight: bold;display: inline-block;line-height: 1.2em;}#sk-container-id-1 div.sk-label-container {text-align: center;}#sk-container-id-1 div.sk-container {/* jupyter's `normalize.less` sets `[hidden] { display: none; }` but bootstrap.min.css set `[hidden] { display: none !important; }` so we also need the `!important` here to be able to override the default hidden behavior on the sphinx rendered scikit-learn.org. See: https://github.com/scikit-learn/scikit-learn/issues/21755 */display: inline-block !important;position: relative;}#sk-container-id-1 div.sk-text-repr-fallback {display: none;}</style><div id=\"sk-container-id-1\" class=\"sk-top-container\"><div class=\"sk-text-repr-fallback\"><pre>LinearRegression()</pre><b>In a Jupyter environment, please rerun this cell to show the HTML representation or trust the notebook. <br />On GitHub, the HTML representation is unable to render, please try loading this page with nbviewer.org.</b></div><div class=\"sk-container\" hidden><div class=\"sk-item\"><div class=\"sk-estimator sk-toggleable\"><input class=\"sk-toggleable__control sk-hidden--visually\" id=\"sk-estimator-id-1\" type=\"checkbox\" checked><label for=\"sk-estimator-id-1\" class=\"sk-toggleable__label sk-toggleable__label-arrow\">LinearRegression</label><div class=\"sk-toggleable__content\"><pre>LinearRegression()</pre></div></div></div></div></div>"
      ],
      "text/plain": [
       "LinearRegression()"
      ]
     },
     "execution_count": 9,
     "metadata": {},
     "output_type": "execute_result"
    }
   ],
   "source": [
    "model= LinearRegression()\n",
    "model.fit(x_train, y_train)"
   ]
  },
  {
   "cell_type": "code",
   "execution_count": 10,
   "id": "48576517",
   "metadata": {
    "execution": {
     "iopub.execute_input": "2024-11-14T12:55:17.194935Z",
     "iopub.status.busy": "2024-11-14T12:55:17.194379Z",
     "iopub.status.idle": "2024-11-14T12:55:17.204666Z",
     "shell.execute_reply": "2024-11-14T12:55:17.203131Z"
    },
    "papermill": {
     "duration": 0.022491,
     "end_time": "2024-11-14T12:55:17.207764",
     "exception": false,
     "start_time": "2024-11-14T12:55:17.185273",
     "status": "completed"
    },
    "tags": []
   },
   "outputs": [
    {
     "data": {
      "text/plain": [
       "array([115574.62288352,  71680.93878159, 102499.90847018,  75416.57147111,\n",
       "        55804.4998511 ,  60474.04071301, 122111.98009019, 107169.44933209,\n",
       "        63275.76523015])"
      ]
     },
     "execution_count": 10,
     "metadata": {},
     "output_type": "execute_result"
    }
   ],
   "source": [
    "y_test_pred= model.predict(x_test)\n",
    "y_test_pred"
   ]
  },
  {
   "cell_type": "code",
   "execution_count": 11,
   "id": "86957613",
   "metadata": {
    "execution": {
     "iopub.execute_input": "2024-11-14T12:55:17.227863Z",
     "iopub.status.busy": "2024-11-14T12:55:17.226266Z",
     "iopub.status.idle": "2024-11-14T12:55:17.236714Z",
     "shell.execute_reply": "2024-11-14T12:55:17.235342Z"
    },
    "papermill": {
     "duration": 0.023175,
     "end_time": "2024-11-14T12:55:17.239333",
     "exception": false,
     "start_time": "2024-11-14T12:55:17.216158",
     "status": "completed"
    },
    "tags": []
   },
   "outputs": [
    {
     "data": {
      "text/plain": [
       "array([ 36192.42823109,  46465.41812729,  73548.75512635,  53002.77533396,\n",
       "        64209.67340254,  63275.76523015,  99698.18395303,  38060.24457585,\n",
       "        39928.06092062, 109971.17384923,  44597.60178252,  92226.91857398,\n",
       "       114640.71471114,  81020.0205054 , 123979.79643495,  89425.19405684,\n",
       "        55804.4998511 ,  62341.85705777,  67945.30609206,  81953.92867778,\n",
       "        53936.68350634])"
      ]
     },
     "execution_count": 11,
     "metadata": {},
     "output_type": "execute_result"
    }
   ],
   "source": [
    "y_train_pred= model.predict(x_train)\n",
    "y_train_pred"
   ]
  },
  {
   "cell_type": "code",
   "execution_count": 12,
   "id": "163e0b9a",
   "metadata": {
    "execution": {
     "iopub.execute_input": "2024-11-14T12:55:17.257496Z",
     "iopub.status.busy": "2024-11-14T12:55:17.256938Z",
     "iopub.status.idle": "2024-11-14T12:55:17.267360Z",
     "shell.execute_reply": "2024-11-14T12:55:17.266094Z"
    },
    "papermill": {
     "duration": 0.023028,
     "end_time": "2024-11-14T12:55:17.270218",
     "exception": false,
     "start_time": "2024-11-14T12:55:17.247190",
     "status": "completed"
    },
    "tags": []
   },
   "outputs": [
    {
     "data": {
      "text/plain": [
       "1.0"
      ]
     },
     "execution_count": 12,
     "metadata": {},
     "output_type": "execute_result"
    }
   ],
   "source": [
    "model.score(x_test,y_test_pred)"
   ]
  },
  {
   "cell_type": "code",
   "execution_count": 13,
   "id": "ede3b591",
   "metadata": {
    "execution": {
     "iopub.execute_input": "2024-11-14T12:55:17.289392Z",
     "iopub.status.busy": "2024-11-14T12:55:17.288878Z",
     "iopub.status.idle": "2024-11-14T12:55:17.299388Z",
     "shell.execute_reply": "2024-11-14T12:55:17.297959Z"
    },
    "papermill": {
     "duration": 0.023823,
     "end_time": "2024-11-14T12:55:17.302551",
     "exception": false,
     "start_time": "2024-11-14T12:55:17.278728",
     "status": "completed"
    },
    "tags": []
   },
   "outputs": [
    {
     "data": {
      "text/plain": [
       "1.0"
      ]
     },
     "execution_count": 13,
     "metadata": {},
     "output_type": "execute_result"
    }
   ],
   "source": [
    "model.score(x_train,y_train_pred)"
   ]
  },
  {
   "cell_type": "code",
   "execution_count": 14,
   "id": "0b41f172",
   "metadata": {
    "execution": {
     "iopub.execute_input": "2024-11-14T12:55:17.322485Z",
     "iopub.status.busy": "2024-11-14T12:55:17.321471Z",
     "iopub.status.idle": "2024-11-14T12:55:17.330281Z",
     "shell.execute_reply": "2024-11-14T12:55:17.328860Z"
    },
    "papermill": {
     "duration": 0.022213,
     "end_time": "2024-11-14T12:55:17.333383",
     "exception": false,
     "start_time": "2024-11-14T12:55:17.311170",
     "status": "completed"
    },
    "tags": []
   },
   "outputs": [
    {
     "name": "stdout",
     "output_type": "stream",
     "text": [
      "0.9574526669392872    0.9414466227178215\n"
     ]
    }
   ],
   "source": [
    "R2_train= r2_score(y_train,y_train_pred)\n",
    "R2_test= r2_score(y_test,y_test_pred)\n",
    "print(R2_train,\"  \",R2_test)"
   ]
  },
  {
   "cell_type": "code",
   "execution_count": null,
   "id": "e239301c",
   "metadata": {
    "papermill": {
     "duration": 0.008062,
     "end_time": "2024-11-14T12:55:17.350390",
     "exception": false,
     "start_time": "2024-11-14T12:55:17.342328",
     "status": "completed"
    },
    "tags": []
   },
   "outputs": [],
   "source": []
  }
 ],
 "metadata": {
  "kaggle": {
   "accelerator": "none",
   "dataSources": [
    {
     "datasetId": 2799910,
     "sourceId": 4832081,
     "sourceType": "datasetVersion"
    }
   ],
   "dockerImageVersionId": 30786,
   "isGpuEnabled": false,
   "isInternetEnabled": true,
   "language": "python",
   "sourceType": "notebook"
  },
  "kernelspec": {
   "display_name": "Python 3",
   "language": "python",
   "name": "python3"
  },
  "language_info": {
   "codemirror_mode": {
    "name": "ipython",
    "version": 3
   },
   "file_extension": ".py",
   "mimetype": "text/x-python",
   "name": "python",
   "nbconvert_exporter": "python",
   "pygments_lexer": "ipython3",
   "version": "3.10.14"
  },
  "papermill": {
   "default_parameters": {},
   "duration": 7.541039,
   "end_time": "2024-11-14T12:55:18.082719",
   "environment_variables": {},
   "exception": null,
   "input_path": "__notebook__.ipynb",
   "output_path": "__notebook__.ipynb",
   "parameters": {},
   "start_time": "2024-11-14T12:55:10.541680",
   "version": "2.6.0"
  }
 },
 "nbformat": 4,
 "nbformat_minor": 5
}
